{
 "cells": [
  {
   "cell_type": "markdown",
   "metadata": {},
   "source": [
    "# Motivation\n",
    "\n",
    "The idea is to analyze the tags provided on various problems that feature in programming contests to quantitatively see\n",
    "which type of problems are most common at various rating divisions."
   ]
  },
  {
   "cell_type": "markdown",
   "metadata": {},
   "source": [
    "## Codeforces\n",
    "\n",
    "For Codeforces, the common rating divisions are Div. 3, Div. 2 and Div. 1 with the problems ordered from least to most\n",
    "difficult. It would make sense to first identify the most recent contests of these types, find the problems they contain,\n",
    "and the corresponding tags. Then, we can visualize the distribution of the tags and see which are the most frequent,\n",
    "along with possible secondary statistics like which tags are the \"toughest\" i.e., correspond to most failed attmepts,\n",
    "which tags are the easiest and so on.\n",
    "\n",
    "Relevant APIs are -\n",
    "* `https://codeforces.com/api/contest.list`\n",
    "* `https://codeforces.com/api/problemset.problems`\n",
    "\n",
    "The first returns a list of all contests as a [`Contest`](https://codeforces.com/apiHelp/objects#Contest) object.\n",
    "\n",
    "```json\n",
    "{\n",
    "    \"id\": 1854,\n",
    "    \"name\": \"Codeforces Round 889 (Div. 1)\",\n",
    "    \"type\": \"CF\",\n",
    "    \"phase\": \"BEFORE\",\n",
    "    \"frozen\": false,\n",
    "    \"durationSeconds\": 9000,\n",
    "    \"startTimeSeconds\": 1690641300,\n",
    "    \"relativeTimeSeconds\": -147153\n",
    "}\n",
    "```\n",
    "\n",
    "Relevant fields are only `id` and `name`. We need string-based heuristics for filtering the name to find the standard\n",
    "Codeforces rounds and their intended \"Div\"s.\n",
    "\n",
    "The problemset API returns a list of all problems as a [`Problem`]() object.\n",
    "\n",
    "```json\n",
    "{\n",
    "    \"contestId\": 1853,\n",
    "    \"index\": \"B\",\n",
    "    \"name\": \"Fibonaccharsis\",\n",
    "    \"type\": \"PROGRAMMING\",\n",
    "    \"points\": 1000.0,\n",
    "    \"rating\": 1200,\n",
    "    \"tags\": [\"binary search\", \"brute force\", \"math\"]\n",
    "}\n",
    "```\n",
    "\n",
    "Relevant fields are `contestId`, to tie back to the contest and check whether it came from a regular CF Round, and which\n",
    "Div contest it came from. `rating` is also a useful feature to denote difficulty, and may be used skip the contest check\n",
    "entirely. `tags` is obviously the one we want."
   ]
  },
  {
   "cell_type": "markdown",
   "metadata": {},
   "source": [
    "## Get data"
   ]
  },
  {
   "cell_type": "code",
   "execution_count": 4,
   "metadata": {},
   "outputs": [],
   "source": [
    "import requests\n",
    "\n",
    "import numpy as np\n",
    "import polars as pl"
   ]
  },
  {
   "cell_type": "markdown",
   "metadata": {},
   "source": [
    "### Contests"
   ]
  },
  {
   "cell_type": "code",
   "execution_count": 5,
   "metadata": {},
   "outputs": [
    {
     "data": {
      "text/plain": [
       "200"
      ]
     },
     "execution_count": 5,
     "metadata": {},
     "output_type": "execute_result"
    }
   ],
   "source": [
    "r = requests.get('https://codeforces.com/api/contest.list')\n",
    "r.status_code"
   ]
  },
  {
   "cell_type": "code",
   "execution_count": 6,
   "metadata": {},
   "outputs": [],
   "source": [
    "class Contest:\n",
    "    def __init__(self, id: int, name: str, startTimeSeconds: int) -> None:\n",
    "        self.id = id\n",
    "        self.name = name\n",
    "        self.startTimeSeconds = startTimeSeconds\n",
    "\n",
    "    def __str__(self) -> str:\n",
    "        return f'{self.id} {self.name} {self.startTimeSeconds}'"
   ]
  },
  {
   "cell_type": "code",
   "execution_count": 7,
   "metadata": {},
   "outputs": [
    {
     "name": "stdout",
     "output_type": "stream",
     "text": [
      "{'id': 2034, 'name': 'Codeforces Round (Div. 1 + Div. 2)', 'type': 'CF', 'phase': 'BEFORE', 'frozen': False, 'durationSeconds': 7200, 'startTimeSeconds': 1732977300, 'relativeTimeSeconds': -1846065}\n"
     ]
    }
   ],
   "source": [
    "data = r.json()\n",
    "contests_list = data['result']\n",
    "print(contests_list[0])"
   ]
  },
  {
   "cell_type": "code",
   "execution_count": 8,
   "metadata": {},
   "outputs": [
    {
     "name": "stdout",
     "output_type": "stream",
     "text": [
      "shape: (1_932, 3)\n",
      "┌──────┬─────────────────────────────────┬──────────────────┐\n",
      "│ id   ┆ name                            ┆ startTimeSeconds │\n",
      "│ ---  ┆ ---                             ┆ ---              │\n",
      "│ i64  ┆ str                             ┆ i64              │\n",
      "╞══════╪═════════════════════════════════╪══════════════════╡\n",
      "│ 2034 ┆ Codeforces Round (Div. 1 + Div… ┆ 1732977300       │\n",
      "│ 2037 ┆ Codeforces Round (Div. 3)       ┆ 1731854100       │\n",
      "│ 2031 ┆ Codeforces Round (Div. 2)       ┆ 1731674100       │\n",
      "│ 2038 ┆ 2024-2025 ICPC, NERC, Southern… ┆ 1731580500       │\n",
      "│ 2028 ┆ Codeforces Round (Div. 2)       ┆ 1731252900       │\n",
      "│ …    ┆ …                               ┆ …                │\n",
      "│ 5    ┆ Codeforces Beta Round 5         ┆ 1269100800       │\n",
      "│ 4    ┆ Codeforces Beta Round 4 (Div. … ┆ 1268395200       │\n",
      "│ 3    ┆ Codeforces Beta Round 3         ┆ 1267963200       │\n",
      "│ 2    ┆ Codeforces Beta Round 2         ┆ 1267117200       │\n",
      "│ 1    ┆ Codeforces Beta Round 1         ┆ 1266580800       │\n",
      "└──────┴─────────────────────────────────┴──────────────────┘\n"
     ]
    }
   ],
   "source": [
    "contests = [Contest(c['id'], c['name'], c['startTimeSeconds']) for c in contests_list]\n",
    "\n",
    "ids = [c.id for c in contests]\n",
    "names = [c.name for c in contests]\n",
    "startTimes = [c.startTimeSeconds for c in contests]\n",
    "\n",
    "df_contests = pl.DataFrame({\n",
    "    'id': pl.Series(ids),\n",
    "    'name': pl.Series(names),\n",
    "    'startTimeSeconds': pl.Series(startTimes)\n",
    "})\n",
    "print(df_contests)"
   ]
  },
  {
   "cell_type": "markdown",
   "metadata": {},
   "source": [
    "Preprocess to add `Boolean` columns to describe whether the contest was Div.1, Div. 2, or Div. 3."
   ]
  },
  {
   "cell_type": "code",
   "execution_count": 9,
   "metadata": {},
   "outputs": [
    {
     "data": {
      "text/html": [
       "<div><style>\n",
       ".dataframe > thead > tr,\n",
       ".dataframe > tbody > tr {\n",
       "  text-align: right;\n",
       "  white-space: pre-wrap;\n",
       "}\n",
       "</style>\n",
       "<small>shape: (1_932, 6)</small><table border=\"1\" class=\"dataframe\"><thead><tr><th>id</th><th>name</th><th>startTimeSeconds</th><th>is_div1</th><th>is_div2</th><th>is_div3</th></tr><tr><td>i64</td><td>str</td><td>i64</td><td>bool</td><td>bool</td><td>bool</td></tr></thead><tbody><tr><td>2034</td><td>&quot;Codeforces Round (Div. 1 + Div…</td><td>1732977300</td><td>true</td><td>true</td><td>false</td></tr><tr><td>2037</td><td>&quot;Codeforces Round (Div. 3)&quot;</td><td>1731854100</td><td>false</td><td>false</td><td>true</td></tr><tr><td>2031</td><td>&quot;Codeforces Round (Div. 2)&quot;</td><td>1731674100</td><td>false</td><td>true</td><td>false</td></tr><tr><td>2038</td><td>&quot;2024-2025 ICPC, NERC, Southern…</td><td>1731580500</td><td>false</td><td>false</td><td>false</td></tr><tr><td>2028</td><td>&quot;Codeforces Round (Div. 2)&quot;</td><td>1731252900</td><td>false</td><td>true</td><td>false</td></tr><tr><td>&hellip;</td><td>&hellip;</td><td>&hellip;</td><td>&hellip;</td><td>&hellip;</td><td>&hellip;</td></tr><tr><td>5</td><td>&quot;Codeforces Beta Round 5&quot;</td><td>1269100800</td><td>false</td><td>false</td><td>false</td></tr><tr><td>4</td><td>&quot;Codeforces Beta Round 4 (Div. …</td><td>1268395200</td><td>false</td><td>true</td><td>false</td></tr><tr><td>3</td><td>&quot;Codeforces Beta Round 3&quot;</td><td>1267963200</td><td>false</td><td>false</td><td>false</td></tr><tr><td>2</td><td>&quot;Codeforces Beta Round 2&quot;</td><td>1267117200</td><td>false</td><td>false</td><td>false</td></tr><tr><td>1</td><td>&quot;Codeforces Beta Round 1&quot;</td><td>1266580800</td><td>false</td><td>false</td><td>false</td></tr></tbody></table></div>"
      ],
      "text/plain": [
       "shape: (1_932, 6)\n",
       "┌──────┬─────────────────────────────────┬──────────────────┬─────────┬─────────┬─────────┐\n",
       "│ id   ┆ name                            ┆ startTimeSeconds ┆ is_div1 ┆ is_div2 ┆ is_div3 │\n",
       "│ ---  ┆ ---                             ┆ ---              ┆ ---     ┆ ---     ┆ ---     │\n",
       "│ i64  ┆ str                             ┆ i64              ┆ bool    ┆ bool    ┆ bool    │\n",
       "╞══════╪═════════════════════════════════╪══════════════════╪═════════╪═════════╪═════════╡\n",
       "│ 2034 ┆ Codeforces Round (Div. 1 + Div… ┆ 1732977300       ┆ true    ┆ true    ┆ false   │\n",
       "│ 2037 ┆ Codeforces Round (Div. 3)       ┆ 1731854100       ┆ false   ┆ false   ┆ true    │\n",
       "│ 2031 ┆ Codeforces Round (Div. 2)       ┆ 1731674100       ┆ false   ┆ true    ┆ false   │\n",
       "│ 2038 ┆ 2024-2025 ICPC, NERC, Southern… ┆ 1731580500       ┆ false   ┆ false   ┆ false   │\n",
       "│ 2028 ┆ Codeforces Round (Div. 2)       ┆ 1731252900       ┆ false   ┆ true    ┆ false   │\n",
       "│ …    ┆ …                               ┆ …                ┆ …       ┆ …       ┆ …       │\n",
       "│ 5    ┆ Codeforces Beta Round 5         ┆ 1269100800       ┆ false   ┆ false   ┆ false   │\n",
       "│ 4    ┆ Codeforces Beta Round 4 (Div. … ┆ 1268395200       ┆ false   ┆ true    ┆ false   │\n",
       "│ 3    ┆ Codeforces Beta Round 3         ┆ 1267963200       ┆ false   ┆ false   ┆ false   │\n",
       "│ 2    ┆ Codeforces Beta Round 2         ┆ 1267117200       ┆ false   ┆ false   ┆ false   │\n",
       "│ 1    ┆ Codeforces Beta Round 1         ┆ 1266580800       ┆ false   ┆ false   ┆ false   │\n",
       "└──────┴─────────────────────────────────┴──────────────────┴─────────┴─────────┴─────────┘"
      ]
     },
     "execution_count": 9,
     "metadata": {},
     "output_type": "execute_result"
    }
   ],
   "source": [
    "df_contests = df_contests.with_columns(\n",
    "    is_div1=pl.col(\"name\").str.contains(\"Div. 1\"),\n",
    "    is_div2=pl.col(\"name\").str.contains(\"Div. 2\"),\n",
    "    is_div3=pl.col(\"name\").str.contains(\"Div. 3\"),\n",
    ")\n",
    "df_contests"
   ]
  },
  {
   "cell_type": "markdown",
   "metadata": {},
   "source": [
    "### Problems"
   ]
  },
  {
   "cell_type": "code",
   "execution_count": 10,
   "metadata": {},
   "outputs": [
    {
     "data": {
      "text/plain": [
       "200"
      ]
     },
     "execution_count": 10,
     "metadata": {},
     "output_type": "execute_result"
    }
   ],
   "source": [
    "r = requests.get('https://codeforces.com/api/problemset.problems')\n",
    "r.status_code"
   ]
  },
  {
   "cell_type": "code",
   "execution_count": 11,
   "metadata": {},
   "outputs": [],
   "source": [
    "from typing import List\n",
    "\n",
    "class Problem:\n",
    "    def __init__(self, name: str, rating: int, tags: List[str], contestId: int) -> None:\n",
    "        self.name = name\n",
    "        self.rating = rating\n",
    "        self.tags = tags\n",
    "        self.contestId = contestId\n",
    "    \n",
    "    def __repr__(self) -> str:\n",
    "        return f'Problem(name={str(self.name)}, rating={str(self.rating)}, tags={str(self.tags)})'\n",
    "    \n",
    "    def __str__(self) -> str:\n",
    "        return repr(self)"
   ]
  },
  {
   "cell_type": "code",
   "execution_count": 12,
   "metadata": {},
   "outputs": [
    {
     "name": "stdout",
     "output_type": "stream",
     "text": [
      "{'contestId': 2036, 'index': 'G', 'name': 'Library of Magic', 'type': 'PROGRAMMING', 'tags': ['binary search', 'constructive algorithms', 'divide and conquer', 'interactive', 'math', 'number theory']}\n"
     ]
    }
   ],
   "source": [
    "data = r.json()\n",
    "problems = data['result']['problems']\n",
    "print(problems[0])"
   ]
  },
  {
   "cell_type": "code",
   "execution_count": 13,
   "metadata": {},
   "outputs": [
    {
     "name": "stdout",
     "output_type": "stream",
     "text": [
      "Problem(name=Library of Magic, rating=nan, tags=['binary search', 'constructive algorithms', 'divide and conquer', 'interactive', 'math', 'number theory'])\n"
     ]
    }
   ],
   "source": [
    "problems = [Problem(problem['name'], problem.get('rating', np.nan), problem.get('tags', []), problem['contestId']) for problem in problems]\n",
    "print(problems[0])"
   ]
  },
  {
   "cell_type": "code",
   "execution_count": 14,
   "metadata": {},
   "outputs": [
    {
     "data": {
      "text/html": [
       "<div><style>\n",
       ".dataframe > thead > tr,\n",
       ".dataframe > tbody > tr {\n",
       "  text-align: right;\n",
       "  white-space: pre-wrap;\n",
       "}\n",
       "</style>\n",
       "<small>shape: (9_918, 4)</small><table border=\"1\" class=\"dataframe\"><thead><tr><th>name</th><th>rating</th><th>tags</th><th>contestId</th></tr><tr><td>str</td><td>f32</td><td>list[str]</td><td>i64</td></tr></thead><tbody><tr><td>&quot;Library of Magic&quot;</td><td>NaN</td><td>[&quot;binary search&quot;, &quot;constructive algorithms&quot;, … &quot;number theory&quot;]</td><td>2036</td></tr><tr><td>&quot;XORificator 3000&quot;</td><td>NaN</td><td>[&quot;bitmasks&quot;, &quot;dp&quot;, … &quot;two pointers&quot;]</td><td>2036</td></tr><tr><td>&quot;Reverse the Rivers&quot;</td><td>NaN</td><td>[&quot;binary search&quot;, &quot;constructive algorithms&quot;, … &quot;greedy&quot;]</td><td>2036</td></tr><tr><td>&quot;I Love 1543&quot;</td><td>NaN</td><td>[&quot;brute force&quot;, &quot;implementation&quot;, &quot;matrices&quot;]</td><td>2036</td></tr><tr><td>&quot;Anya and 1100&quot;</td><td>NaN</td><td>[&quot;brute force&quot;, &quot;implementation&quot;]</td><td>2036</td></tr><tr><td>&hellip;</td><td>&hellip;</td><td>&hellip;</td><td>&hellip;</td></tr><tr><td>&quot;The least round way&quot;</td><td>2000.0</td><td>[&quot;dp&quot;, &quot;math&quot;]</td><td>2</td></tr><tr><td>&quot;Winner&quot;</td><td>1500.0</td><td>[&quot;hashing&quot;, &quot;implementation&quot;]</td><td>2</td></tr><tr><td>&quot;Ancient Berland Circus&quot;</td><td>2100.0</td><td>[&quot;geometry&quot;, &quot;math&quot;]</td><td>1</td></tr><tr><td>&quot;Spreadsheet&quot;</td><td>1600.0</td><td>[&quot;implementation&quot;, &quot;math&quot;]</td><td>1</td></tr><tr><td>&quot;Theatre Square&quot;</td><td>1000.0</td><td>[&quot;math&quot;]</td><td>1</td></tr></tbody></table></div>"
      ],
      "text/plain": [
       "shape: (9_918, 4)\n",
       "┌────────────────────────┬────────┬─────────────────────────────────┬───────────┐\n",
       "│ name                   ┆ rating ┆ tags                            ┆ contestId │\n",
       "│ ---                    ┆ ---    ┆ ---                             ┆ ---       │\n",
       "│ str                    ┆ f32    ┆ list[str]                       ┆ i64       │\n",
       "╞════════════════════════╪════════╪═════════════════════════════════╪═══════════╡\n",
       "│ Library of Magic       ┆ NaN    ┆ [\"binary search\", \"constructiv… ┆ 2036      │\n",
       "│ XORificator 3000       ┆ NaN    ┆ [\"bitmasks\", \"dp\", … \"two poin… ┆ 2036      │\n",
       "│ Reverse the Rivers     ┆ NaN    ┆ [\"binary search\", \"constructiv… ┆ 2036      │\n",
       "│ I Love 1543            ┆ NaN    ┆ [\"brute force\", \"implementatio… ┆ 2036      │\n",
       "│ Anya and 1100          ┆ NaN    ┆ [\"brute force\", \"implementatio… ┆ 2036      │\n",
       "│ …                      ┆ …      ┆ …                               ┆ …         │\n",
       "│ The least round way    ┆ 2000.0 ┆ [\"dp\", \"math\"]                  ┆ 2         │\n",
       "│ Winner                 ┆ 1500.0 ┆ [\"hashing\", \"implementation\"]   ┆ 2         │\n",
       "│ Ancient Berland Circus ┆ 2100.0 ┆ [\"geometry\", \"math\"]            ┆ 1         │\n",
       "│ Spreadsheet            ┆ 1600.0 ┆ [\"implementation\", \"math\"]      ┆ 1         │\n",
       "│ Theatre Square         ┆ 1000.0 ┆ [\"math\"]                        ┆ 1         │\n",
       "└────────────────────────┴────────┴─────────────────────────────────┴───────────┘"
      ]
     },
     "execution_count": 14,
     "metadata": {},
     "output_type": "execute_result"
    }
   ],
   "source": [
    "names = pl.Series([problem.name for problem in problems])\n",
    "ratings = pl.Series([problem.rating for problem in problems], dtype=pl.Float32)\n",
    "tags = [problem.tags for problem in problems]\n",
    "contestIds = pl.Series([problem.contestId for problem in problems])\n",
    "\n",
    "df_problems = pl.DataFrame({\n",
    "    'name': names,\n",
    "    'rating': ratings,\n",
    "    'tags': tags,\n",
    "    'contestId': contestIds\n",
    "})\n",
    "df_problems"
   ]
  },
  {
   "cell_type": "markdown",
   "metadata": {},
   "source": [
    "Join both DataFrames to obtain a list of all problems along with the contest it is present in."
   ]
  },
  {
   "cell_type": "code",
   "execution_count": 15,
   "metadata": {},
   "outputs": [
    {
     "data": {
      "text/html": [
       "<div><style>\n",
       ".dataframe > thead > tr,\n",
       ".dataframe > tbody > tr {\n",
       "  text-align: right;\n",
       "  white-space: pre-wrap;\n",
       "}\n",
       "</style>\n",
       "<small>shape: (9_918, 9)</small><table border=\"1\" class=\"dataframe\"><thead><tr><th>name</th><th>rating</th><th>tags</th><th>contestId</th><th>name_right</th><th>startTimeSeconds</th><th>is_div1</th><th>is_div2</th><th>is_div3</th></tr><tr><td>str</td><td>f32</td><td>list[str]</td><td>i64</td><td>str</td><td>i64</td><td>bool</td><td>bool</td><td>bool</td></tr></thead><tbody><tr><td>&quot;Library of Magic&quot;</td><td>NaN</td><td>[&quot;binary search&quot;, &quot;constructive algorithms&quot;, … &quot;number theory&quot;]</td><td>2036</td><td>&quot;Codeforces Round 984 (Div. 3)&quot;</td><td>1730558100</td><td>false</td><td>false</td><td>true</td></tr><tr><td>&quot;XORificator 3000&quot;</td><td>NaN</td><td>[&quot;bitmasks&quot;, &quot;dp&quot;, … &quot;two pointers&quot;]</td><td>2036</td><td>&quot;Codeforces Round 984 (Div. 3)&quot;</td><td>1730558100</td><td>false</td><td>false</td><td>true</td></tr><tr><td>&quot;Reverse the Rivers&quot;</td><td>NaN</td><td>[&quot;binary search&quot;, &quot;constructive algorithms&quot;, … &quot;greedy&quot;]</td><td>2036</td><td>&quot;Codeforces Round 984 (Div. 3)&quot;</td><td>1730558100</td><td>false</td><td>false</td><td>true</td></tr><tr><td>&quot;I Love 1543&quot;</td><td>NaN</td><td>[&quot;brute force&quot;, &quot;implementation&quot;, &quot;matrices&quot;]</td><td>2036</td><td>&quot;Codeforces Round 984 (Div. 3)&quot;</td><td>1730558100</td><td>false</td><td>false</td><td>true</td></tr><tr><td>&quot;Anya and 1100&quot;</td><td>NaN</td><td>[&quot;brute force&quot;, &quot;implementation&quot;]</td><td>2036</td><td>&quot;Codeforces Round 984 (Div. 3)&quot;</td><td>1730558100</td><td>false</td><td>false</td><td>true</td></tr><tr><td>&hellip;</td><td>&hellip;</td><td>&hellip;</td><td>&hellip;</td><td>&hellip;</td><td>&hellip;</td><td>&hellip;</td><td>&hellip;</td><td>&hellip;</td></tr><tr><td>&quot;The least round way&quot;</td><td>2000.0</td><td>[&quot;dp&quot;, &quot;math&quot;]</td><td>2</td><td>&quot;Codeforces Beta Round 2&quot;</td><td>1267117200</td><td>false</td><td>false</td><td>false</td></tr><tr><td>&quot;Winner&quot;</td><td>1500.0</td><td>[&quot;hashing&quot;, &quot;implementation&quot;]</td><td>2</td><td>&quot;Codeforces Beta Round 2&quot;</td><td>1267117200</td><td>false</td><td>false</td><td>false</td></tr><tr><td>&quot;Ancient Berland Circus&quot;</td><td>2100.0</td><td>[&quot;geometry&quot;, &quot;math&quot;]</td><td>1</td><td>&quot;Codeforces Beta Round 1&quot;</td><td>1266580800</td><td>false</td><td>false</td><td>false</td></tr><tr><td>&quot;Spreadsheet&quot;</td><td>1600.0</td><td>[&quot;implementation&quot;, &quot;math&quot;]</td><td>1</td><td>&quot;Codeforces Beta Round 1&quot;</td><td>1266580800</td><td>false</td><td>false</td><td>false</td></tr><tr><td>&quot;Theatre Square&quot;</td><td>1000.0</td><td>[&quot;math&quot;]</td><td>1</td><td>&quot;Codeforces Beta Round 1&quot;</td><td>1266580800</td><td>false</td><td>false</td><td>false</td></tr></tbody></table></div>"
      ],
      "text/plain": [
       "shape: (9_918, 9)\n",
       "┌──────────────┬────────┬──────────────┬───────────┬───┬─────────────┬─────────┬─────────┬─────────┐\n",
       "│ name         ┆ rating ┆ tags         ┆ contestId ┆ … ┆ startTimeSe ┆ is_div1 ┆ is_div2 ┆ is_div3 │\n",
       "│ ---          ┆ ---    ┆ ---          ┆ ---       ┆   ┆ conds       ┆ ---     ┆ ---     ┆ ---     │\n",
       "│ str          ┆ f32    ┆ list[str]    ┆ i64       ┆   ┆ ---         ┆ bool    ┆ bool    ┆ bool    │\n",
       "│              ┆        ┆              ┆           ┆   ┆ i64         ┆         ┆         ┆         │\n",
       "╞══════════════╪════════╪══════════════╪═══════════╪═══╪═════════════╪═════════╪═════════╪═════════╡\n",
       "│ Library of   ┆ NaN    ┆ [\"binary     ┆ 2036      ┆ … ┆ 1730558100  ┆ false   ┆ false   ┆ true    │\n",
       "│ Magic        ┆        ┆ search\", \"co ┆           ┆   ┆             ┆         ┆         ┆         │\n",
       "│              ┆        ┆ nstructiv…   ┆           ┆   ┆             ┆         ┆         ┆         │\n",
       "│ XORificator  ┆ NaN    ┆ [\"bitmasks\", ┆ 2036      ┆ … ┆ 1730558100  ┆ false   ┆ false   ┆ true    │\n",
       "│ 3000         ┆        ┆ \"dp\", … \"two ┆           ┆   ┆             ┆         ┆         ┆         │\n",
       "│              ┆        ┆ poin…        ┆           ┆   ┆             ┆         ┆         ┆         │\n",
       "│ Reverse the  ┆ NaN    ┆ [\"binary     ┆ 2036      ┆ … ┆ 1730558100  ┆ false   ┆ false   ┆ true    │\n",
       "│ Rivers       ┆        ┆ search\", \"co ┆           ┆   ┆             ┆         ┆         ┆         │\n",
       "│              ┆        ┆ nstructiv…   ┆           ┆   ┆             ┆         ┆         ┆         │\n",
       "│ I Love 1543  ┆ NaN    ┆ [\"brute      ┆ 2036      ┆ … ┆ 1730558100  ┆ false   ┆ false   ┆ true    │\n",
       "│              ┆        ┆ force\", \"imp ┆           ┆   ┆             ┆         ┆         ┆         │\n",
       "│              ┆        ┆ lementatio…  ┆           ┆   ┆             ┆         ┆         ┆         │\n",
       "│ Anya and     ┆ NaN    ┆ [\"brute      ┆ 2036      ┆ … ┆ 1730558100  ┆ false   ┆ false   ┆ true    │\n",
       "│ 1100         ┆        ┆ force\", \"imp ┆           ┆   ┆             ┆         ┆         ┆         │\n",
       "│              ┆        ┆ lementatio…  ┆           ┆   ┆             ┆         ┆         ┆         │\n",
       "│ …            ┆ …      ┆ …            ┆ …         ┆ … ┆ …           ┆ …       ┆ …       ┆ …       │\n",
       "│ The least    ┆ 2000.0 ┆ [\"dp\",       ┆ 2         ┆ … ┆ 1267117200  ┆ false   ┆ false   ┆ false   │\n",
       "│ round way    ┆        ┆ \"math\"]      ┆           ┆   ┆             ┆         ┆         ┆         │\n",
       "│ Winner       ┆ 1500.0 ┆ [\"hashing\",  ┆ 2         ┆ … ┆ 1267117200  ┆ false   ┆ false   ┆ false   │\n",
       "│              ┆        ┆ \"implementat ┆           ┆   ┆             ┆         ┆         ┆         │\n",
       "│              ┆        ┆ ion\"]        ┆           ┆   ┆             ┆         ┆         ┆         │\n",
       "│ Ancient      ┆ 2100.0 ┆ [\"geometry\", ┆ 1         ┆ … ┆ 1266580800  ┆ false   ┆ false   ┆ false   │\n",
       "│ Berland      ┆        ┆ \"math\"]      ┆           ┆   ┆             ┆         ┆         ┆         │\n",
       "│ Circus       ┆        ┆              ┆           ┆   ┆             ┆         ┆         ┆         │\n",
       "│ Spreadsheet  ┆ 1600.0 ┆ [\"implementa ┆ 1         ┆ … ┆ 1266580800  ┆ false   ┆ false   ┆ false   │\n",
       "│              ┆        ┆ tion\",       ┆           ┆   ┆             ┆         ┆         ┆         │\n",
       "│              ┆        ┆ \"math\"]      ┆           ┆   ┆             ┆         ┆         ┆         │\n",
       "│ Theatre      ┆ 1000.0 ┆ [\"math\"]     ┆ 1         ┆ … ┆ 1266580800  ┆ false   ┆ false   ┆ false   │\n",
       "│ Square       ┆        ┆              ┆           ┆   ┆             ┆         ┆         ┆         │\n",
       "└──────────────┴────────┴──────────────┴───────────┴───┴─────────────┴─────────┴─────────┴─────────┘"
      ]
     },
     "execution_count": 15,
     "metadata": {},
     "output_type": "execute_result"
    }
   ],
   "source": [
    "df = df_problems.join(df_contests, left_on=\"contestId\", right_on=\"id\", how='inner')\n",
    "df"
   ]
  },
  {
   "cell_type": "markdown",
   "metadata": {},
   "source": [
    "### Preprocessing"
   ]
  },
  {
   "cell_type": "code",
   "execution_count": 16,
   "metadata": {},
   "outputs": [
    {
     "name": "stdout",
     "output_type": "stream",
     "text": [
      "37\n",
      "{'greedy', 'brute force', 'two pointers', 'bitmasks', 'sortings', 'math', 'chinese remainder theorem', 'divide and conquer', 'interactive', 'trees', 'hashing', 'constructive algorithms', '*special', 'data structures', 'graphs', 'shortest paths', 'matrices', 'string suffix structures', 'meet-in-the-middle', 'graph matchings', 'dp', 'expression parsing', 'dfs and similar', 'geometry', 'implementation', 'ternary search', 'fft', '2-sat', 'binary search', 'combinatorics', 'flows', 'strings', 'schedules', 'dsu', 'probabilities', 'number theory', 'games'}\n"
     ]
    }
   ],
   "source": [
    "all_tags = set(tag for tags_list in df['tags'] for tag in tags_list)\n",
    "print(len(all_tags))\n",
    "print(all_tags)"
   ]
  },
  {
   "cell_type": "code",
   "execution_count": 17,
   "metadata": {},
   "outputs": [
    {
     "data": {
      "text/plain": [
       "array(['*special', '2-sat', 'binary search', 'bitmasks', 'brute force',\n",
       "       'chinese remainder theorem', 'combinatorics',\n",
       "       'constructive algorithms', 'data structures', 'dfs and similar',\n",
       "       'divide and conquer', 'dp', 'dsu', 'expression parsing', 'fft',\n",
       "       'flows', 'games', 'geometry', 'graph matchings', 'graphs',\n",
       "       'greedy', 'hashing', 'implementation', 'interactive', 'math',\n",
       "       'matrices', 'meet-in-the-middle', 'number theory', 'probabilities',\n",
       "       'schedules', 'shortest paths', 'sortings',\n",
       "       'string suffix structures', 'strings', 'ternary search', 'trees',\n",
       "       'two pointers'], dtype=object)"
      ]
     },
     "execution_count": 17,
     "metadata": {},
     "output_type": "execute_result"
    }
   ],
   "source": [
    "from sklearn.preprocessing import MultiLabelBinarizer\n",
    "\n",
    "mlb = MultiLabelBinarizer()\n",
    "tags_transformer = mlb.fit(df['tags'])\n",
    "tags_transformer.classes_"
   ]
  },
  {
   "cell_type": "code",
   "execution_count": 18,
   "metadata": {},
   "outputs": [
    {
     "data": {
      "text/html": [
       "<div><style>\n",
       ".dataframe > thead > tr,\n",
       ".dataframe > tbody > tr {\n",
       "  text-align: right;\n",
       "  white-space: pre-wrap;\n",
       "}\n",
       "</style>\n",
       "<small>shape: (9_918, 37)</small><table border=\"1\" class=\"dataframe\"><thead><tr><th>*special</th><th>2-sat</th><th>binary search</th><th>bitmasks</th><th>brute force</th><th>chinese remainder theorem</th><th>combinatorics</th><th>constructive algorithms</th><th>data structures</th><th>dfs and similar</th><th>divide and conquer</th><th>dp</th><th>dsu</th><th>expression parsing</th><th>fft</th><th>flows</th><th>games</th><th>geometry</th><th>graph matchings</th><th>graphs</th><th>greedy</th><th>hashing</th><th>implementation</th><th>interactive</th><th>math</th><th>matrices</th><th>meet-in-the-middle</th><th>number theory</th><th>probabilities</th><th>schedules</th><th>shortest paths</th><th>sortings</th><th>string suffix structures</th><th>strings</th><th>ternary search</th><th>trees</th><th>two pointers</th></tr><tr><td>bool</td><td>bool</td><td>bool</td><td>bool</td><td>bool</td><td>bool</td><td>bool</td><td>bool</td><td>bool</td><td>bool</td><td>bool</td><td>bool</td><td>bool</td><td>bool</td><td>bool</td><td>bool</td><td>bool</td><td>bool</td><td>bool</td><td>bool</td><td>bool</td><td>bool</td><td>bool</td><td>bool</td><td>bool</td><td>bool</td><td>bool</td><td>bool</td><td>bool</td><td>bool</td><td>bool</td><td>bool</td><td>bool</td><td>bool</td><td>bool</td><td>bool</td><td>bool</td></tr></thead><tbody><tr><td>false</td><td>false</td><td>true</td><td>false</td><td>false</td><td>false</td><td>false</td><td>true</td><td>false</td><td>false</td><td>true</td><td>false</td><td>false</td><td>false</td><td>false</td><td>false</td><td>false</td><td>false</td><td>false</td><td>false</td><td>false</td><td>false</td><td>false</td><td>true</td><td>true</td><td>false</td><td>false</td><td>true</td><td>false</td><td>false</td><td>false</td><td>false</td><td>false</td><td>false</td><td>false</td><td>false</td><td>false</td></tr><tr><td>false</td><td>false</td><td>false</td><td>true</td><td>false</td><td>false</td><td>false</td><td>false</td><td>false</td><td>false</td><td>false</td><td>true</td><td>false</td><td>false</td><td>false</td><td>false</td><td>false</td><td>false</td><td>false</td><td>false</td><td>false</td><td>false</td><td>false</td><td>false</td><td>false</td><td>false</td><td>false</td><td>true</td><td>false</td><td>false</td><td>false</td><td>false</td><td>false</td><td>false</td><td>false</td><td>false</td><td>true</td></tr><tr><td>false</td><td>false</td><td>true</td><td>false</td><td>false</td><td>false</td><td>false</td><td>true</td><td>true</td><td>false</td><td>false</td><td>false</td><td>false</td><td>false</td><td>false</td><td>false</td><td>false</td><td>false</td><td>false</td><td>false</td><td>true</td><td>false</td><td>false</td><td>false</td><td>false</td><td>false</td><td>false</td><td>false</td><td>false</td><td>false</td><td>false</td><td>false</td><td>false</td><td>false</td><td>false</td><td>false</td><td>false</td></tr><tr><td>false</td><td>false</td><td>false</td><td>false</td><td>true</td><td>false</td><td>false</td><td>false</td><td>false</td><td>false</td><td>false</td><td>false</td><td>false</td><td>false</td><td>false</td><td>false</td><td>false</td><td>false</td><td>false</td><td>false</td><td>false</td><td>false</td><td>true</td><td>false</td><td>false</td><td>true</td><td>false</td><td>false</td><td>false</td><td>false</td><td>false</td><td>false</td><td>false</td><td>false</td><td>false</td><td>false</td><td>false</td></tr><tr><td>false</td><td>false</td><td>false</td><td>false</td><td>true</td><td>false</td><td>false</td><td>false</td><td>false</td><td>false</td><td>false</td><td>false</td><td>false</td><td>false</td><td>false</td><td>false</td><td>false</td><td>false</td><td>false</td><td>false</td><td>false</td><td>false</td><td>true</td><td>false</td><td>false</td><td>false</td><td>false</td><td>false</td><td>false</td><td>false</td><td>false</td><td>false</td><td>false</td><td>false</td><td>false</td><td>false</td><td>false</td></tr><tr><td>&hellip;</td><td>&hellip;</td><td>&hellip;</td><td>&hellip;</td><td>&hellip;</td><td>&hellip;</td><td>&hellip;</td><td>&hellip;</td><td>&hellip;</td><td>&hellip;</td><td>&hellip;</td><td>&hellip;</td><td>&hellip;</td><td>&hellip;</td><td>&hellip;</td><td>&hellip;</td><td>&hellip;</td><td>&hellip;</td><td>&hellip;</td><td>&hellip;</td><td>&hellip;</td><td>&hellip;</td><td>&hellip;</td><td>&hellip;</td><td>&hellip;</td><td>&hellip;</td><td>&hellip;</td><td>&hellip;</td><td>&hellip;</td><td>&hellip;</td><td>&hellip;</td><td>&hellip;</td><td>&hellip;</td><td>&hellip;</td><td>&hellip;</td><td>&hellip;</td><td>&hellip;</td></tr><tr><td>false</td><td>false</td><td>false</td><td>false</td><td>false</td><td>false</td><td>false</td><td>false</td><td>false</td><td>false</td><td>false</td><td>true</td><td>false</td><td>false</td><td>false</td><td>false</td><td>false</td><td>false</td><td>false</td><td>false</td><td>false</td><td>false</td><td>false</td><td>false</td><td>true</td><td>false</td><td>false</td><td>false</td><td>false</td><td>false</td><td>false</td><td>false</td><td>false</td><td>false</td><td>false</td><td>false</td><td>false</td></tr><tr><td>false</td><td>false</td><td>false</td><td>false</td><td>false</td><td>false</td><td>false</td><td>false</td><td>false</td><td>false</td><td>false</td><td>false</td><td>false</td><td>false</td><td>false</td><td>false</td><td>false</td><td>false</td><td>false</td><td>false</td><td>false</td><td>true</td><td>true</td><td>false</td><td>false</td><td>false</td><td>false</td><td>false</td><td>false</td><td>false</td><td>false</td><td>false</td><td>false</td><td>false</td><td>false</td><td>false</td><td>false</td></tr><tr><td>false</td><td>false</td><td>false</td><td>false</td><td>false</td><td>false</td><td>false</td><td>false</td><td>false</td><td>false</td><td>false</td><td>false</td><td>false</td><td>false</td><td>false</td><td>false</td><td>false</td><td>true</td><td>false</td><td>false</td><td>false</td><td>false</td><td>false</td><td>false</td><td>true</td><td>false</td><td>false</td><td>false</td><td>false</td><td>false</td><td>false</td><td>false</td><td>false</td><td>false</td><td>false</td><td>false</td><td>false</td></tr><tr><td>false</td><td>false</td><td>false</td><td>false</td><td>false</td><td>false</td><td>false</td><td>false</td><td>false</td><td>false</td><td>false</td><td>false</td><td>false</td><td>false</td><td>false</td><td>false</td><td>false</td><td>false</td><td>false</td><td>false</td><td>false</td><td>false</td><td>true</td><td>false</td><td>true</td><td>false</td><td>false</td><td>false</td><td>false</td><td>false</td><td>false</td><td>false</td><td>false</td><td>false</td><td>false</td><td>false</td><td>false</td></tr><tr><td>false</td><td>false</td><td>false</td><td>false</td><td>false</td><td>false</td><td>false</td><td>false</td><td>false</td><td>false</td><td>false</td><td>false</td><td>false</td><td>false</td><td>false</td><td>false</td><td>false</td><td>false</td><td>false</td><td>false</td><td>false</td><td>false</td><td>false</td><td>false</td><td>true</td><td>false</td><td>false</td><td>false</td><td>false</td><td>false</td><td>false</td><td>false</td><td>false</td><td>false</td><td>false</td><td>false</td><td>false</td></tr></tbody></table></div>"
      ],
      "text/plain": [
       "shape: (9_918, 37)\n",
       "┌──────────┬───────┬───────────────┬──────────┬───┬─────────┬─────────┬───────┬──────────────┐\n",
       "│ *special ┆ 2-sat ┆ binary search ┆ bitmasks ┆ … ┆ strings ┆ ternary ┆ trees ┆ two pointers │\n",
       "│ ---      ┆ ---   ┆ ---           ┆ ---      ┆   ┆ ---     ┆ search  ┆ ---   ┆ ---          │\n",
       "│ bool     ┆ bool  ┆ bool          ┆ bool     ┆   ┆ bool    ┆ ---     ┆ bool  ┆ bool         │\n",
       "│          ┆       ┆               ┆          ┆   ┆         ┆ bool    ┆       ┆              │\n",
       "╞══════════╪═══════╪═══════════════╪══════════╪═══╪═════════╪═════════╪═══════╪══════════════╡\n",
       "│ false    ┆ false ┆ true          ┆ false    ┆ … ┆ false   ┆ false   ┆ false ┆ false        │\n",
       "│ false    ┆ false ┆ false         ┆ true     ┆ … ┆ false   ┆ false   ┆ false ┆ true         │\n",
       "│ false    ┆ false ┆ true          ┆ false    ┆ … ┆ false   ┆ false   ┆ false ┆ false        │\n",
       "│ false    ┆ false ┆ false         ┆ false    ┆ … ┆ false   ┆ false   ┆ false ┆ false        │\n",
       "│ false    ┆ false ┆ false         ┆ false    ┆ … ┆ false   ┆ false   ┆ false ┆ false        │\n",
       "│ …        ┆ …     ┆ …             ┆ …        ┆ … ┆ …       ┆ …       ┆ …     ┆ …            │\n",
       "│ false    ┆ false ┆ false         ┆ false    ┆ … ┆ false   ┆ false   ┆ false ┆ false        │\n",
       "│ false    ┆ false ┆ false         ┆ false    ┆ … ┆ false   ┆ false   ┆ false ┆ false        │\n",
       "│ false    ┆ false ┆ false         ┆ false    ┆ … ┆ false   ┆ false   ┆ false ┆ false        │\n",
       "│ false    ┆ false ┆ false         ┆ false    ┆ … ┆ false   ┆ false   ┆ false ┆ false        │\n",
       "│ false    ┆ false ┆ false         ┆ false    ┆ … ┆ false   ┆ false   ┆ false ┆ false        │\n",
       "└──────────┴───────┴───────────────┴──────────┴───┴─────────┴─────────┴───────┴──────────────┘"
      ]
     },
     "execution_count": 18,
     "metadata": {},
     "output_type": "execute_result"
    }
   ],
   "source": [
    "df_tags = pl.DataFrame(tags_transformer.transform(df['tags']), schema=[(tag, pl.Boolean) for tag in tags_transformer.classes_])\n",
    "df_tags"
   ]
  },
  {
   "cell_type": "code",
   "execution_count": 19,
   "metadata": {},
   "outputs": [
    {
     "data": {
      "text/html": [
       "<div><style>\n",
       ".dataframe > thead > tr,\n",
       ".dataframe > tbody > tr {\n",
       "  text-align: right;\n",
       "  white-space: pre-wrap;\n",
       "}\n",
       "</style>\n",
       "<small>shape: (9_918, 46)</small><table border=\"1\" class=\"dataframe\"><thead><tr><th>name</th><th>rating</th><th>tags</th><th>contestId</th><th>name_right</th><th>startTimeSeconds</th><th>is_div1</th><th>is_div2</th><th>is_div3</th><th>*special</th><th>2-sat</th><th>binary search</th><th>bitmasks</th><th>brute force</th><th>chinese remainder theorem</th><th>combinatorics</th><th>constructive algorithms</th><th>data structures</th><th>dfs and similar</th><th>divide and conquer</th><th>dp</th><th>dsu</th><th>expression parsing</th><th>fft</th><th>flows</th><th>games</th><th>geometry</th><th>graph matchings</th><th>graphs</th><th>greedy</th><th>hashing</th><th>implementation</th><th>interactive</th><th>math</th><th>matrices</th><th>meet-in-the-middle</th><th>number theory</th><th>probabilities</th><th>schedules</th><th>shortest paths</th><th>sortings</th><th>string suffix structures</th><th>strings</th><th>ternary search</th><th>trees</th><th>two pointers</th></tr><tr><td>str</td><td>f32</td><td>list[str]</td><td>i64</td><td>str</td><td>i64</td><td>bool</td><td>bool</td><td>bool</td><td>bool</td><td>bool</td><td>bool</td><td>bool</td><td>bool</td><td>bool</td><td>bool</td><td>bool</td><td>bool</td><td>bool</td><td>bool</td><td>bool</td><td>bool</td><td>bool</td><td>bool</td><td>bool</td><td>bool</td><td>bool</td><td>bool</td><td>bool</td><td>bool</td><td>bool</td><td>bool</td><td>bool</td><td>bool</td><td>bool</td><td>bool</td><td>bool</td><td>bool</td><td>bool</td><td>bool</td><td>bool</td><td>bool</td><td>bool</td><td>bool</td><td>bool</td><td>bool</td></tr></thead><tbody><tr><td>&quot;Library of Magic&quot;</td><td>NaN</td><td>[&quot;binary search&quot;, &quot;constructive algorithms&quot;, … &quot;number theory&quot;]</td><td>2036</td><td>&quot;Codeforces Round 984 (Div. 3)&quot;</td><td>1730558100</td><td>false</td><td>false</td><td>true</td><td>false</td><td>false</td><td>true</td><td>false</td><td>false</td><td>false</td><td>false</td><td>true</td><td>false</td><td>false</td><td>true</td><td>false</td><td>false</td><td>false</td><td>false</td><td>false</td><td>false</td><td>false</td><td>false</td><td>false</td><td>false</td><td>false</td><td>false</td><td>true</td><td>true</td><td>false</td><td>false</td><td>true</td><td>false</td><td>false</td><td>false</td><td>false</td><td>false</td><td>false</td><td>false</td><td>false</td><td>false</td></tr><tr><td>&quot;XORificator 3000&quot;</td><td>NaN</td><td>[&quot;bitmasks&quot;, &quot;dp&quot;, … &quot;two pointers&quot;]</td><td>2036</td><td>&quot;Codeforces Round 984 (Div. 3)&quot;</td><td>1730558100</td><td>false</td><td>false</td><td>true</td><td>false</td><td>false</td><td>false</td><td>true</td><td>false</td><td>false</td><td>false</td><td>false</td><td>false</td><td>false</td><td>false</td><td>true</td><td>false</td><td>false</td><td>false</td><td>false</td><td>false</td><td>false</td><td>false</td><td>false</td><td>false</td><td>false</td><td>false</td><td>false</td><td>false</td><td>false</td><td>false</td><td>true</td><td>false</td><td>false</td><td>false</td><td>false</td><td>false</td><td>false</td><td>false</td><td>false</td><td>true</td></tr><tr><td>&quot;Reverse the Rivers&quot;</td><td>NaN</td><td>[&quot;binary search&quot;, &quot;constructive algorithms&quot;, … &quot;greedy&quot;]</td><td>2036</td><td>&quot;Codeforces Round 984 (Div. 3)&quot;</td><td>1730558100</td><td>false</td><td>false</td><td>true</td><td>false</td><td>false</td><td>true</td><td>false</td><td>false</td><td>false</td><td>false</td><td>true</td><td>true</td><td>false</td><td>false</td><td>false</td><td>false</td><td>false</td><td>false</td><td>false</td><td>false</td><td>false</td><td>false</td><td>false</td><td>true</td><td>false</td><td>false</td><td>false</td><td>false</td><td>false</td><td>false</td><td>false</td><td>false</td><td>false</td><td>false</td><td>false</td><td>false</td><td>false</td><td>false</td><td>false</td><td>false</td></tr><tr><td>&quot;I Love 1543&quot;</td><td>NaN</td><td>[&quot;brute force&quot;, &quot;implementation&quot;, &quot;matrices&quot;]</td><td>2036</td><td>&quot;Codeforces Round 984 (Div. 3)&quot;</td><td>1730558100</td><td>false</td><td>false</td><td>true</td><td>false</td><td>false</td><td>false</td><td>false</td><td>true</td><td>false</td><td>false</td><td>false</td><td>false</td><td>false</td><td>false</td><td>false</td><td>false</td><td>false</td><td>false</td><td>false</td><td>false</td><td>false</td><td>false</td><td>false</td><td>false</td><td>false</td><td>true</td><td>false</td><td>false</td><td>true</td><td>false</td><td>false</td><td>false</td><td>false</td><td>false</td><td>false</td><td>false</td><td>false</td><td>false</td><td>false</td><td>false</td></tr><tr><td>&quot;Anya and 1100&quot;</td><td>NaN</td><td>[&quot;brute force&quot;, &quot;implementation&quot;]</td><td>2036</td><td>&quot;Codeforces Round 984 (Div. 3)&quot;</td><td>1730558100</td><td>false</td><td>false</td><td>true</td><td>false</td><td>false</td><td>false</td><td>false</td><td>true</td><td>false</td><td>false</td><td>false</td><td>false</td><td>false</td><td>false</td><td>false</td><td>false</td><td>false</td><td>false</td><td>false</td><td>false</td><td>false</td><td>false</td><td>false</td><td>false</td><td>false</td><td>true</td><td>false</td><td>false</td><td>false</td><td>false</td><td>false</td><td>false</td><td>false</td><td>false</td><td>false</td><td>false</td><td>false</td><td>false</td><td>false</td><td>false</td></tr><tr><td>&hellip;</td><td>&hellip;</td><td>&hellip;</td><td>&hellip;</td><td>&hellip;</td><td>&hellip;</td><td>&hellip;</td><td>&hellip;</td><td>&hellip;</td><td>&hellip;</td><td>&hellip;</td><td>&hellip;</td><td>&hellip;</td><td>&hellip;</td><td>&hellip;</td><td>&hellip;</td><td>&hellip;</td><td>&hellip;</td><td>&hellip;</td><td>&hellip;</td><td>&hellip;</td><td>&hellip;</td><td>&hellip;</td><td>&hellip;</td><td>&hellip;</td><td>&hellip;</td><td>&hellip;</td><td>&hellip;</td><td>&hellip;</td><td>&hellip;</td><td>&hellip;</td><td>&hellip;</td><td>&hellip;</td><td>&hellip;</td><td>&hellip;</td><td>&hellip;</td><td>&hellip;</td><td>&hellip;</td><td>&hellip;</td><td>&hellip;</td><td>&hellip;</td><td>&hellip;</td><td>&hellip;</td><td>&hellip;</td><td>&hellip;</td><td>&hellip;</td></tr><tr><td>&quot;The least round way&quot;</td><td>2000.0</td><td>[&quot;dp&quot;, &quot;math&quot;]</td><td>2</td><td>&quot;Codeforces Beta Round 2&quot;</td><td>1267117200</td><td>false</td><td>false</td><td>false</td><td>false</td><td>false</td><td>false</td><td>false</td><td>false</td><td>false</td><td>false</td><td>false</td><td>false</td><td>false</td><td>false</td><td>true</td><td>false</td><td>false</td><td>false</td><td>false</td><td>false</td><td>false</td><td>false</td><td>false</td><td>false</td><td>false</td><td>false</td><td>false</td><td>true</td><td>false</td><td>false</td><td>false</td><td>false</td><td>false</td><td>false</td><td>false</td><td>false</td><td>false</td><td>false</td><td>false</td><td>false</td></tr><tr><td>&quot;Winner&quot;</td><td>1500.0</td><td>[&quot;hashing&quot;, &quot;implementation&quot;]</td><td>2</td><td>&quot;Codeforces Beta Round 2&quot;</td><td>1267117200</td><td>false</td><td>false</td><td>false</td><td>false</td><td>false</td><td>false</td><td>false</td><td>false</td><td>false</td><td>false</td><td>false</td><td>false</td><td>false</td><td>false</td><td>false</td><td>false</td><td>false</td><td>false</td><td>false</td><td>false</td><td>false</td><td>false</td><td>false</td><td>false</td><td>true</td><td>true</td><td>false</td><td>false</td><td>false</td><td>false</td><td>false</td><td>false</td><td>false</td><td>false</td><td>false</td><td>false</td><td>false</td><td>false</td><td>false</td><td>false</td></tr><tr><td>&quot;Ancient Berland Circus&quot;</td><td>2100.0</td><td>[&quot;geometry&quot;, &quot;math&quot;]</td><td>1</td><td>&quot;Codeforces Beta Round 1&quot;</td><td>1266580800</td><td>false</td><td>false</td><td>false</td><td>false</td><td>false</td><td>false</td><td>false</td><td>false</td><td>false</td><td>false</td><td>false</td><td>false</td><td>false</td><td>false</td><td>false</td><td>false</td><td>false</td><td>false</td><td>false</td><td>false</td><td>true</td><td>false</td><td>false</td><td>false</td><td>false</td><td>false</td><td>false</td><td>true</td><td>false</td><td>false</td><td>false</td><td>false</td><td>false</td><td>false</td><td>false</td><td>false</td><td>false</td><td>false</td><td>false</td><td>false</td></tr><tr><td>&quot;Spreadsheet&quot;</td><td>1600.0</td><td>[&quot;implementation&quot;, &quot;math&quot;]</td><td>1</td><td>&quot;Codeforces Beta Round 1&quot;</td><td>1266580800</td><td>false</td><td>false</td><td>false</td><td>false</td><td>false</td><td>false</td><td>false</td><td>false</td><td>false</td><td>false</td><td>false</td><td>false</td><td>false</td><td>false</td><td>false</td><td>false</td><td>false</td><td>false</td><td>false</td><td>false</td><td>false</td><td>false</td><td>false</td><td>false</td><td>false</td><td>true</td><td>false</td><td>true</td><td>false</td><td>false</td><td>false</td><td>false</td><td>false</td><td>false</td><td>false</td><td>false</td><td>false</td><td>false</td><td>false</td><td>false</td></tr><tr><td>&quot;Theatre Square&quot;</td><td>1000.0</td><td>[&quot;math&quot;]</td><td>1</td><td>&quot;Codeforces Beta Round 1&quot;</td><td>1266580800</td><td>false</td><td>false</td><td>false</td><td>false</td><td>false</td><td>false</td><td>false</td><td>false</td><td>false</td><td>false</td><td>false</td><td>false</td><td>false</td><td>false</td><td>false</td><td>false</td><td>false</td><td>false</td><td>false</td><td>false</td><td>false</td><td>false</td><td>false</td><td>false</td><td>false</td><td>false</td><td>false</td><td>true</td><td>false</td><td>false</td><td>false</td><td>false</td><td>false</td><td>false</td><td>false</td><td>false</td><td>false</td><td>false</td><td>false</td><td>false</td></tr></tbody></table></div>"
      ],
      "text/plain": [
       "shape: (9_918, 46)\n",
       "┌───────────────┬────────┬──────────────┬───────────┬───┬─────────┬─────────┬───────┬──────────────┐\n",
       "│ name          ┆ rating ┆ tags         ┆ contestId ┆ … ┆ strings ┆ ternary ┆ trees ┆ two pointers │\n",
       "│ ---           ┆ ---    ┆ ---          ┆ ---       ┆   ┆ ---     ┆ search  ┆ ---   ┆ ---          │\n",
       "│ str           ┆ f32    ┆ list[str]    ┆ i64       ┆   ┆ bool    ┆ ---     ┆ bool  ┆ bool         │\n",
       "│               ┆        ┆              ┆           ┆   ┆         ┆ bool    ┆       ┆              │\n",
       "╞═══════════════╪════════╪══════════════╪═══════════╪═══╪═════════╪═════════╪═══════╪══════════════╡\n",
       "│ Library of    ┆ NaN    ┆ [\"binary     ┆ 2036      ┆ … ┆ false   ┆ false   ┆ false ┆ false        │\n",
       "│ Magic         ┆        ┆ search\", \"co ┆           ┆   ┆         ┆         ┆       ┆              │\n",
       "│               ┆        ┆ nstructiv…   ┆           ┆   ┆         ┆         ┆       ┆              │\n",
       "│ XORificator   ┆ NaN    ┆ [\"bitmasks\", ┆ 2036      ┆ … ┆ false   ┆ false   ┆ false ┆ true         │\n",
       "│ 3000          ┆        ┆ \"dp\", … \"two ┆           ┆   ┆         ┆         ┆       ┆              │\n",
       "│               ┆        ┆ poin…        ┆           ┆   ┆         ┆         ┆       ┆              │\n",
       "│ Reverse the   ┆ NaN    ┆ [\"binary     ┆ 2036      ┆ … ┆ false   ┆ false   ┆ false ┆ false        │\n",
       "│ Rivers        ┆        ┆ search\", \"co ┆           ┆   ┆         ┆         ┆       ┆              │\n",
       "│               ┆        ┆ nstructiv…   ┆           ┆   ┆         ┆         ┆       ┆              │\n",
       "│ I Love 1543   ┆ NaN    ┆ [\"brute      ┆ 2036      ┆ … ┆ false   ┆ false   ┆ false ┆ false        │\n",
       "│               ┆        ┆ force\", \"imp ┆           ┆   ┆         ┆         ┆       ┆              │\n",
       "│               ┆        ┆ lementatio…  ┆           ┆   ┆         ┆         ┆       ┆              │\n",
       "│ Anya and 1100 ┆ NaN    ┆ [\"brute      ┆ 2036      ┆ … ┆ false   ┆ false   ┆ false ┆ false        │\n",
       "│               ┆        ┆ force\", \"imp ┆           ┆   ┆         ┆         ┆       ┆              │\n",
       "│               ┆        ┆ lementatio…  ┆           ┆   ┆         ┆         ┆       ┆              │\n",
       "│ …             ┆ …      ┆ …            ┆ …         ┆ … ┆ …       ┆ …       ┆ …     ┆ …            │\n",
       "│ The least     ┆ 2000.0 ┆ [\"dp\",       ┆ 2         ┆ … ┆ false   ┆ false   ┆ false ┆ false        │\n",
       "│ round way     ┆        ┆ \"math\"]      ┆           ┆   ┆         ┆         ┆       ┆              │\n",
       "│ Winner        ┆ 1500.0 ┆ [\"hashing\",  ┆ 2         ┆ … ┆ false   ┆ false   ┆ false ┆ false        │\n",
       "│               ┆        ┆ \"implementat ┆           ┆   ┆         ┆         ┆       ┆              │\n",
       "│               ┆        ┆ ion\"]        ┆           ┆   ┆         ┆         ┆       ┆              │\n",
       "│ Ancient       ┆ 2100.0 ┆ [\"geometry\", ┆ 1         ┆ … ┆ false   ┆ false   ┆ false ┆ false        │\n",
       "│ Berland       ┆        ┆ \"math\"]      ┆           ┆   ┆         ┆         ┆       ┆              │\n",
       "│ Circus        ┆        ┆              ┆           ┆   ┆         ┆         ┆       ┆              │\n",
       "│ Spreadsheet   ┆ 1600.0 ┆ [\"implementa ┆ 1         ┆ … ┆ false   ┆ false   ┆ false ┆ false        │\n",
       "│               ┆        ┆ tion\",       ┆           ┆   ┆         ┆         ┆       ┆              │\n",
       "│               ┆        ┆ \"math\"]      ┆           ┆   ┆         ┆         ┆       ┆              │\n",
       "│ Theatre       ┆ 1000.0 ┆ [\"math\"]     ┆ 1         ┆ … ┆ false   ┆ false   ┆ false ┆ false        │\n",
       "│ Square        ┆        ┆              ┆           ┆   ┆         ┆         ┆       ┆              │\n",
       "└───────────────┴────────┴──────────────┴───────────┴───┴─────────┴─────────┴───────┴──────────────┘"
      ]
     },
     "execution_count": 19,
     "metadata": {},
     "output_type": "execute_result"
    }
   ],
   "source": [
    "df = pl.concat([df, df_tags], how='horizontal')\n",
    "df"
   ]
  },
  {
   "cell_type": "markdown",
   "metadata": {},
   "source": [
    "### Visualization\n",
    "\n",
    "Given this data, we want to gain insight into which tags are more common at certain rating ranges, such that competitors at those ranges have an idea of which problem tags will be useful to study if they want to progress."
   ]
  },
  {
   "cell_type": "code",
   "execution_count": 27,
   "metadata": {},
   "outputs": [
    {
     "data": {
      "text/html": [
       "<div><style>\n",
       ".dataframe > thead > tr,\n",
       ".dataframe > tbody > tr {\n",
       "  text-align: right;\n",
       "  white-space: pre-wrap;\n",
       "}\n",
       "</style>\n",
       "<small>shape: (1, 37)</small><table border=\"1\" class=\"dataframe\"><thead><tr><th>greedy</th><th>brute force</th><th>two pointers</th><th>bitmasks</th><th>sortings</th><th>math</th><th>chinese remainder theorem</th><th>divide and conquer</th><th>interactive</th><th>trees</th><th>hashing</th><th>constructive algorithms</th><th>*special</th><th>data structures</th><th>graphs</th><th>shortest paths</th><th>matrices</th><th>string suffix structures</th><th>meet-in-the-middle</th><th>graph matchings</th><th>dp</th><th>expression parsing</th><th>dfs and similar</th><th>geometry</th><th>implementation</th><th>ternary search</th><th>fft</th><th>2-sat</th><th>binary search</th><th>combinatorics</th><th>flows</th><th>strings</th><th>schedules</th><th>dsu</th><th>probabilities</th><th>number theory</th><th>games</th></tr><tr><td>u32</td><td>u32</td><td>u32</td><td>u32</td><td>u32</td><td>u32</td><td>u32</td><td>u32</td><td>u32</td><td>u32</td><td>u32</td><td>u32</td><td>u32</td><td>u32</td><td>u32</td><td>u32</td><td>u32</td><td>u32</td><td>u32</td><td>u32</td><td>u32</td><td>u32</td><td>u32</td><td>u32</td><td>u32</td><td>u32</td><td>u32</td><td>u32</td><td>u32</td><td>u32</td><td>u32</td><td>u32</td><td>u32</td><td>u32</td><td>u32</td><td>u32</td><td>u32</td></tr></thead><tbody><tr><td>568</td><td>313</td><td>123</td><td>144</td><td>197</td><td>632</td><td>7</td><td>102</td><td>57</td><td>283</td><td>60</td><td>439</td><td>0</td><td>532</td><td>319</td><td>78</td><td>44</td><td>28</td><td>11</td><td>31</td><td>607</td><td>8</td><td>256</td><td>121</td><td>368</td><td>12</td><td>43</td><td>12</td><td>232</td><td>212</td><td>41</td><td>133</td><td>4</td><td>106</td><td>91</td><td>178</td><td>69</td></tr></tbody></table></div>"
      ],
      "text/plain": [
       "shape: (1, 37)\n",
       "┌────────┬─────────────┬──────────────┬──────────┬───┬─────┬───────────────┬───────────────┬───────┐\n",
       "│ greedy ┆ brute force ┆ two pointers ┆ bitmasks ┆ … ┆ dsu ┆ probabilities ┆ number theory ┆ games │\n",
       "│ ---    ┆ ---         ┆ ---          ┆ ---      ┆   ┆ --- ┆ ---           ┆ ---           ┆ ---   │\n",
       "│ u32    ┆ u32         ┆ u32          ┆ u32      ┆   ┆ u32 ┆ u32           ┆ u32           ┆ u32   │\n",
       "╞════════╪═════════════╪══════════════╪══════════╪═══╪═════╪═══════════════╪═══════════════╪═══════╡\n",
       "│ 568    ┆ 313         ┆ 123          ┆ 144      ┆ … ┆ 106 ┆ 91            ┆ 178           ┆ 69    │\n",
       "└────────┴─────────────┴──────────────┴──────────┴───┴─────┴───────────────┴───────────────┴───────┘"
      ]
     },
     "execution_count": 27,
     "metadata": {},
     "output_type": "execute_result"
    }
   ],
   "source": [
    "tag_freqs = df.filter(pl.col(\"is_div1\") == True).select(pl.col(all_tags)).sum()\n",
    "tag_freqs"
   ]
  },
  {
   "cell_type": "code",
   "execution_count": 29,
   "metadata": {},
   "outputs": [
    {
     "data": {
      "image/png": "[encoded data removed]",
      "text/plain": [
       "<Figure size 1000x1000 with 1 Axes>"
      ]
     },
     "metadata": {},
     "output_type": "display_data"
    }
   ],
   "source": [
    "import matplotlib.pyplot as plt\n",
    "\n",
    "plt.figure(figsize=(10, 10))\n",
    "plt.barh(tag_freqs.columns, tag_freqs.to_numpy().flatten())\n",
    "plt.show()"
   ]
  },
  {
   "cell_type": "code",
   "execution_count": null,
   "metadata": {},
   "outputs": [],
   "source": []
  },
  {
   "cell_type": "code",
   "execution_count": null,
   "metadata": {},
   "outputs": [],
   "source": []
  },
  {
   "cell_type": "markdown",
   "metadata": {},
   "source": [
    "## CodeChef\n",
    "\n",
    "For CodeChef, we have two rating divisions of Div 2., and Div 1. There are long contests, short contests and Snacktime.\n",
    "For each of these, we can repeat the same process as in Codeforces."
   ]
  }
 ],
 "metadata": {
  "kernelspec": {
   "display_name": "Python 3",
   "language": "python",
   "name": "python3"
  },
  "language_info": {
   "codemirror_mode": {
    "name": "ipython",
    "version": 3
   },
   "file_extension": ".py",
   "mimetype": "text/x-python",
   "name": "python",
   "nbconvert_exporter": "python",
   "pygments_lexer": "ipython3",
   "version": "3.12.7"
  },
  "orig_nbformat": 4
 },
 "nbformat": 4,
 "nbformat_minor": 2
}
